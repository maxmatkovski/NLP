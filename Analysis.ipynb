{
 "cells": [
  {
   "cell_type": "code",
   "execution_count": 18,
   "id": "44ede588",
   "metadata": {},
   "outputs": [
    {
     "data": {
      "text/html": [
       "<div>\n",
       "<style scoped>\n",
       "    .dataframe tbody tr th:only-of-type {\n",
       "        vertical-align: middle;\n",
       "    }\n",
       "\n",
       "    .dataframe tbody tr th {\n",
       "        vertical-align: top;\n",
       "    }\n",
       "\n",
       "    .dataframe thead th {\n",
       "        text-align: right;\n",
       "    }\n",
       "</style>\n",
       "<table border=\"1\" class=\"dataframe\">\n",
       "  <thead>\n",
       "    <tr style=\"text-align: right;\">\n",
       "      <th></th>\n",
       "      <th>Datetime</th>\n",
       "      <th>Tweet Id</th>\n",
       "      <th>Text</th>\n",
       "      <th>Username</th>\n",
       "    </tr>\n",
       "  </thead>\n",
       "  <tbody>\n",
       "    <tr>\n",
       "      <th>0</th>\n",
       "      <td>2022-11-08 23:59:59+00:00</td>\n",
       "      <td>1590132054296956928</td>\n",
       "      <td>@PattiHarris @BloombergDotOrg @USCclimate What...</td>\n",
       "      <td>Sparky28292</td>\n",
       "    </tr>\n",
       "    <tr>\n",
       "      <th>1</th>\n",
       "      <td>2022-11-08 23:59:52+00:00</td>\n",
       "      <td>1590132025444696065</td>\n",
       "      <td>⚡️⚡️Sustainable Water and Energy Solutions sup...</td>\n",
       "      <td>SustDev</td>\n",
       "    </tr>\n",
       "    <tr>\n",
       "      <th>2</th>\n",
       "      <td>2022-11-08 23:59:47+00:00</td>\n",
       "      <td>1590132002522816512</td>\n",
       "      <td>@rainnwilson @elonmusk Coal and gas power equi...</td>\n",
       "      <td>FreeMan71542585</td>\n",
       "    </tr>\n",
       "    <tr>\n",
       "      <th>3</th>\n",
       "      <td>2022-11-08 23:59:45+00:00</td>\n",
       "      <td>1590131996692721665</td>\n",
       "      <td>@TheoFleury14 Someone needs to let these peopl...</td>\n",
       "      <td>play101975</td>\n",
       "    </tr>\n",
       "    <tr>\n",
       "      <th>4</th>\n",
       "      <td>2022-11-08 23:59:45+00:00</td>\n",
       "      <td>1590131996323328001</td>\n",
       "      <td>#California, #Arizona, and #Nevada Democrats: ...</td>\n",
       "      <td>winewatcher</td>\n",
       "    </tr>\n",
       "    <tr>\n",
       "      <th>...</th>\n",
       "      <td>...</td>\n",
       "      <td>...</td>\n",
       "      <td>...</td>\n",
       "      <td>...</td>\n",
       "    </tr>\n",
       "    <tr>\n",
       "      <th>99996</th>\n",
       "      <td>2022-11-05 20:31:42+00:00</td>\n",
       "      <td>1588992473270919168</td>\n",
       "      <td>@HMcPhersonMP @theJagmeetSingh @CharlieAngusND...</td>\n",
       "      <td>GHabs9</td>\n",
       "    </tr>\n",
       "    <tr>\n",
       "      <th>99997</th>\n",
       "      <td>2022-11-05 20:31:40+00:00</td>\n",
       "      <td>1588992465314250752</td>\n",
       "      <td>Protection Act in September, but of course the...</td>\n",
       "      <td>Loves_Equines</td>\n",
       "    </tr>\n",
       "    <tr>\n",
       "      <th>99998</th>\n",
       "      <td>2022-11-05 20:31:26+00:00</td>\n",
       "      <td>1588992407479418880</td>\n",
       "      <td>@elonmusk Elon Musk u buying Twitter is actual...</td>\n",
       "      <td>KilluaBoy4KT</td>\n",
       "    </tr>\n",
       "    <tr>\n",
       "      <th>99999</th>\n",
       "      <td>2022-11-05 20:31:19+00:00</td>\n",
       "      <td>1588992375644639233</td>\n",
       "      <td>@Nieuwsuur @rudybouma Wetenschappelijke verant...</td>\n",
       "      <td>Z06Ronald</td>\n",
       "    </tr>\n",
       "    <tr>\n",
       "      <th>100000</th>\n",
       "      <td>2022-11-05 20:31:18+00:00</td>\n",
       "      <td>1588992371290955776</td>\n",
       "      <td>U.S. cities like Denver, CO, continue to be le...</td>\n",
       "      <td>nwcement</td>\n",
       "    </tr>\n",
       "  </tbody>\n",
       "</table>\n",
       "<p>100001 rows × 4 columns</p>\n",
       "</div>"
      ],
      "text/plain": [
       "                         Datetime             Tweet Id  \\\n",
       "0       2022-11-08 23:59:59+00:00  1590132054296956928   \n",
       "1       2022-11-08 23:59:52+00:00  1590132025444696065   \n",
       "2       2022-11-08 23:59:47+00:00  1590132002522816512   \n",
       "3       2022-11-08 23:59:45+00:00  1590131996692721665   \n",
       "4       2022-11-08 23:59:45+00:00  1590131996323328001   \n",
       "...                           ...                  ...   \n",
       "99996   2022-11-05 20:31:42+00:00  1588992473270919168   \n",
       "99997   2022-11-05 20:31:40+00:00  1588992465314250752   \n",
       "99998   2022-11-05 20:31:26+00:00  1588992407479418880   \n",
       "99999   2022-11-05 20:31:19+00:00  1588992375644639233   \n",
       "100000  2022-11-05 20:31:18+00:00  1588992371290955776   \n",
       "\n",
       "                                                     Text         Username  \n",
       "0       @PattiHarris @BloombergDotOrg @USCclimate What...      Sparky28292  \n",
       "1       ⚡️⚡️Sustainable Water and Energy Solutions sup...          SustDev  \n",
       "2       @rainnwilson @elonmusk Coal and gas power equi...  FreeMan71542585  \n",
       "3       @TheoFleury14 Someone needs to let these peopl...       play101975  \n",
       "4       #California, #Arizona, and #Nevada Democrats: ...      winewatcher  \n",
       "...                                                   ...              ...  \n",
       "99996   @HMcPhersonMP @theJagmeetSingh @CharlieAngusND...           GHabs9  \n",
       "99997   Protection Act in September, but of course the...    Loves_Equines  \n",
       "99998   @elonmusk Elon Musk u buying Twitter is actual...     KilluaBoy4KT  \n",
       "99999   @Nieuwsuur @rudybouma Wetenschappelijke verant...        Z06Ronald  \n",
       "100000  U.S. cities like Denver, CO, continue to be le...         nwcement  \n",
       "\n",
       "[100001 rows x 4 columns]"
      ]
     },
     "execution_count": 18,
     "metadata": {},
     "output_type": "execute_result"
    }
   ],
   "source": [
    "import pandas as pd\n",
    "df = pd.read_csv('Climate_Change_Tweets_100000.csv')\n",
    "df = df.drop(['Unnamed: 0'], axis=1)\n",
    "df"
   ]
  },
  {
   "cell_type": "code",
   "execution_count": 19,
   "id": "065e010e",
   "metadata": {},
   "outputs": [],
   "source": [
    "# do imports\n",
    "import pandas as pd\n",
    "import numpy as np\n",
    "import matplotlib.pyplot as plt\n",
    "import seaborn as sns\n",
    "import re \n",
    "import string \n",
    "import nltk \n",
    "import warnings\n",
    "%matplotlib inline\n",
    "\n",
    "warnings.filterwarnings('ignore')"
   ]
  },
  {
   "cell_type": "code",
   "execution_count": 21,
   "id": "b05d8b9a",
   "metadata": {},
   "outputs": [
    {
     "data": {
      "text/plain": [
       "(100001, 4)"
      ]
     },
     "execution_count": 21,
     "metadata": {},
     "output_type": "execute_result"
    }
   ],
   "source": [
    "df.shape"
   ]
  },
  {
   "cell_type": "code",
   "execution_count": 55,
   "id": "0f891a51",
   "metadata": {},
   "outputs": [
    {
     "name": "stdout",
     "output_type": "stream",
     "text": [
      "⚡️⚡️Sustainable Water and Energy Solutions supporting Climate Change and Biodiversity Objectives through Innovation and Clean Technologies\n",
      "\n",
      "Tomorrow ➡️#COP27 Event at #BlueZone #SDGPavilion \n",
      " \n",
      "Register at: https://t.co/R0626DV2NH\n",
      "\n",
      "#WaterEnergySolutions #COP27 #SDGPavilion https://t.co/HHAuxL6cUF\n"
     ]
    }
   ],
   "source": [
    "a = df.iloc[1]['Text']\n",
    "print(a)"
   ]
  },
  {
   "cell_type": "code",
   "execution_count": 54,
   "id": "1b03ede4",
   "metadata": {},
   "outputs": [
    {
     "name": "stdout",
     "output_type": "stream",
     "text": [
      "⚡️⚡️Sustainable Water and Energy Solutions supporting Climate Change and Biodiversity Objectives through Innovation and Clean Technologies\n",
      "\n",
      "Tomorrow ➡️#COP27 Event at #BlueZone #SDGPavilion \n",
      " \n",
      "Register at: \n",
      "\n",
      "#WaterEnergySolutions #COP27 #SDGPavilion \n"
     ]
    }
   ],
   "source": [
    "# remove emojis\n",
    "regex_pattern = re.compile(pattern = \"[\"\n",
    "        u\"\\U0001F600-\\U0001F64F\"  # emoticons\n",
    "        u\"\\U0001F300-\\U0001F5FF\"  # symbols & pictographs\n",
    "        u\"\\U0001F680-\\U0001F6FF\"  # transport & map symbols\n",
    "        u\"\\U0001F1E0-\\U0001F1FF\"  # flags (iOS)\n",
    "                           \"]+\", flags = re.UNICODE)\n",
    "a = re.sub(regex_pattern,'',a) #replaces pattern with ''\n",
    "print(a)"
   ]
  },
  {
   "cell_type": "code",
   "execution_count": 56,
   "id": "82c24f69",
   "metadata": {},
   "outputs": [
    {
     "name": "stdout",
     "output_type": "stream",
     "text": [
      "⚡️⚡️Sustainable Water and Energy Solutions supporting Climate Change and Biodiversity Objectives through Innovation and Clean Technologies\n",
      "\n",
      "Tomorrow ➡️COP27 Event at BlueZone SDGPavilion \n",
      " \n",
      "Register at: \n",
      "\n",
      "WaterEnergySolutions COP27 SDGPavilion \n"
     ]
    }
   ],
   "source": [
    "\n",
    "# remove urls from text\n",
    "pattern = re.compile(r'(https?://)?(www\\.)?(\\w+\\.)?(\\w+)(\\.\\w+)(/.+)?')\n",
    "a = re.sub(pattern,'',a)\n",
    "\n",
    "# remove @ symbols and hashtags\n",
    "re_list = ['@[A-Za-z0–9_]+', '#']\n",
    "combined_re = re.compile( '|'.join( re_list) )\n",
    "match = re.sub(combined_re,'',a)\n",
    "print(match)"
   ]
  },
  {
   "cell_type": "code",
   "execution_count": 42,
   "id": "563d0fae",
   "metadata": {},
   "outputs": [
    {
     "data": {
      "text/plain": [
       "False"
      ]
     },
     "execution_count": 42,
     "metadata": {},
     "output_type": "execute_result"
    }
   ],
   "source": [
    "a == match"
   ]
  },
  {
   "cell_type": "code",
   "execution_count": null,
   "id": "17a3eeb6",
   "metadata": {},
   "outputs": [],
   "source": []
  }
 ],
 "metadata": {
  "kernelspec": {
   "display_name": "Python 3 (ipykernel)",
   "language": "python",
   "name": "python3"
  },
  "language_info": {
   "codemirror_mode": {
    "name": "ipython",
    "version": 3
   },
   "file_extension": ".py",
   "mimetype": "text/x-python",
   "name": "python",
   "nbconvert_exporter": "python",
   "pygments_lexer": "ipython3",
   "version": "3.8.8"
  }
 },
 "nbformat": 4,
 "nbformat_minor": 5
}
