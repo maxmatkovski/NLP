{
 "cells": [
  {
   "cell_type": "code",
   "execution_count": null,
   "id": "bdc44b72",
   "metadata": {},
   "outputs": [
    {
     "name": "stderr",
     "output_type": "stream",
     "text": [
      "C:\\Users\\maxma\\AppData\\Local\\Temp\\ipykernel_24704\\3937432645.py:12: FutureWarning: content is deprecated, use rawContent instead\n",
      "  tweets_list.append([tweet.date, tweet.id, tweet.content, tweet.user.username])\n"
     ]
    }
   ],
   "source": [
    "import snscrape.modules.twitter as sntwitter\n",
    "import pandas as pd\n",
    "# declare variables and query\n",
    "tweets_list = []\n",
    "tweet_count = 100000\n",
    "query = \"Climate Change since:2021-01-01 until:2022-11-09\" \n",
    "\n",
    "# use TwitterSearchScraper to scrape data and append tweets to list\n",
    "for i,tweet in enumerate(sntwitter.TwitterSearchScraper(query).get_items()):\n",
    "    if i>tweet_count:\n",
    "        break\n",
    "    tweets_list.append([tweet.date, tweet.id, tweet.content, tweet.user.username])\n",
    "    \n",
    "# Creating a dataframe from the tweets list above\n",
    "tweets_df = pd.DataFrame(tweets_list, columns=['Datetime', 'Tweet Id', 'Text', 'Username'])"
   ]
  },
  {
   "cell_type": "code",
   "execution_count": null,
   "id": "8fc11196",
   "metadata": {},
   "outputs": [],
   "source": [
    "tweets_df"
   ]
  },
  {
   "cell_type": "code",
   "execution_count": 26,
   "id": "0e47aa54",
   "metadata": {},
   "outputs": [
    {
     "data": {
      "text/plain": [
       "'@PattiHarris @BloombergDotOrg @USCclimate What a waste of free air. Stop with the bullshit climate change. There is NO such thing!  It’s a money laundering ploy, plain and simple.'"
      ]
     },
     "execution_count": 26,
     "metadata": {},
     "output_type": "execute_result"
    }
   ],
   "source": [
    "tweets_df.iloc[0]['Text']"
   ]
  },
  {
   "cell_type": "code",
   "execution_count": 27,
   "id": "c747b6e1",
   "metadata": {},
   "outputs": [],
   "source": [
    "tweets_df.to_csv(r'C:\\Users\\maxma\\Downloads\\CS\\NLP\\Climate_Change_Tweets_10000.csv')"
   ]
  },
  {
   "cell_type": "code",
   "execution_count": null,
   "id": "94f5e969",
   "metadata": {},
   "outputs": [],
   "source": []
  }
 ],
 "metadata": {
  "kernelspec": {
   "display_name": "Python 3 (ipykernel)",
   "language": "python",
   "name": "python3"
  },
  "language_info": {
   "codemirror_mode": {
    "name": "ipython",
    "version": 3
   },
   "file_extension": ".py",
   "mimetype": "text/x-python",
   "name": "python",
   "nbconvert_exporter": "python",
   "pygments_lexer": "ipython3",
   "version": "3.8.8"
  }
 },
 "nbformat": 4,
 "nbformat_minor": 5
}
