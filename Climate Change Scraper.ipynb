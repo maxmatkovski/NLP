{
 "cells": [
  {
   "cell_type": "code",
   "execution_count": 24,
   "id": "e31a1f9a",
   "metadata": {},
   "outputs": [
    {
     "name": "stderr",
     "output_type": "stream",
     "text": [
      "C:\\Users\\maxma\\AppData\\Local\\Temp\\ipykernel_24704\\534914921.py:12: FutureWarning: content is deprecated, use rawContent instead\n",
      "  tweets_list.append([tweet.date, tweet.id, tweet.content, tweet.user.username])\n"
     ]
    }
   ],
   "source": [
    "import snscrape.modules.twitter as sntwitter\n",
    "import pandas as pd\n",
    "# declare variables and query\n",
    "tweets_list = []\n",
    "tweet_count = 10000\n",
    "query = \"Climate Change since:2021-01-01 until:2022-11-09\" \n",
    "\n",
    "# use TwitterSearchScraper to scrape data and append tweets to list\n",
    "for i,tweet in enumerate(sntwitter.TwitterSearchScraper(query).get_items()):\n",
    "    if i>tweet_count:\n",
    "        break\n",
    "    tweets_list.append([tweet.date, tweet.id, tweet.content, tweet.user.username])\n",
    "    \n",
    "# Creating a dataframe from the tweets list above\n",
    "tweets_df = pd.DataFrame(tweets_list, columns=['Datetime', 'Tweet Id', 'Text', 'Username'])"
   ]
  },
  {
   "cell_type": "code",
   "execution_count": 25,
   "id": "e7f33416",
   "metadata": {},
   "outputs": [
    {
     "data": {
      "text/html": [
       "<div>\n",
       "<style scoped>\n",
       "    .dataframe tbody tr th:only-of-type {\n",
       "        vertical-align: middle;\n",
       "    }\n",
       "\n",
       "    .dataframe tbody tr th {\n",
       "        vertical-align: top;\n",
       "    }\n",
       "\n",
       "    .dataframe thead th {\n",
       "        text-align: right;\n",
       "    }\n",
       "</style>\n",
       "<table border=\"1\" class=\"dataframe\">\n",
       "  <thead>\n",
       "    <tr style=\"text-align: right;\">\n",
       "      <th></th>\n",
       "      <th>Datetime</th>\n",
       "      <th>Tweet Id</th>\n",
       "      <th>Text</th>\n",
       "      <th>Username</th>\n",
       "    </tr>\n",
       "  </thead>\n",
       "  <tbody>\n",
       "    <tr>\n",
       "      <th>0</th>\n",
       "      <td>2022-11-08 23:59:59+00:00</td>\n",
       "      <td>1590132054296956928</td>\n",
       "      <td>@PattiHarris @BloombergDotOrg @USCclimate What...</td>\n",
       "      <td>Sparky28292</td>\n",
       "    </tr>\n",
       "    <tr>\n",
       "      <th>1</th>\n",
       "      <td>2022-11-08 23:59:52+00:00</td>\n",
       "      <td>1590132025444696065</td>\n",
       "      <td>⚡️⚡️Sustainable Water and Energy Solutions sup...</td>\n",
       "      <td>SustDev</td>\n",
       "    </tr>\n",
       "    <tr>\n",
       "      <th>2</th>\n",
       "      <td>2022-11-08 23:59:47+00:00</td>\n",
       "      <td>1590132002522816512</td>\n",
       "      <td>@rainnwilson @elonmusk Coal and gas power equi...</td>\n",
       "      <td>FreeMan71542585</td>\n",
       "    </tr>\n",
       "    <tr>\n",
       "      <th>3</th>\n",
       "      <td>2022-11-08 23:59:45+00:00</td>\n",
       "      <td>1590131996692721665</td>\n",
       "      <td>@TheoFleury14 Someone needs to let these peopl...</td>\n",
       "      <td>play101975</td>\n",
       "    </tr>\n",
       "    <tr>\n",
       "      <th>4</th>\n",
       "      <td>2022-11-08 23:59:45+00:00</td>\n",
       "      <td>1590131996323328001</td>\n",
       "      <td>#California, #Arizona, and #Nevada Democrats: ...</td>\n",
       "      <td>winewatcher</td>\n",
       "    </tr>\n",
       "    <tr>\n",
       "      <th>...</th>\n",
       "      <td>...</td>\n",
       "      <td>...</td>\n",
       "      <td>...</td>\n",
       "      <td>...</td>\n",
       "    </tr>\n",
       "    <tr>\n",
       "      <th>9996</th>\n",
       "      <td>2022-11-08 17:34:01+00:00</td>\n",
       "      <td>1590034922798219264</td>\n",
       "      <td>@zanupf_patriots What is he doing to tackle cl...</td>\n",
       "      <td>welly275</td>\n",
       "    </tr>\n",
       "    <tr>\n",
       "      <th>9997</th>\n",
       "      <td>2022-11-08 17:33:58+00:00</td>\n",
       "      <td>1590034909846188032</td>\n",
       "      <td>@DonaldJTrumpJr That’s the reason I voted demo...</td>\n",
       "      <td>steinysbbq1</td>\n",
       "    </tr>\n",
       "    <tr>\n",
       "      <th>9998</th>\n",
       "      <td>2022-11-08 17:33:53+00:00</td>\n",
       "      <td>1590034890128379906</td>\n",
       "      <td>WEF Climate Change agenda is a scam Eco terror...</td>\n",
       "      <td>babilon92666967</td>\n",
       "    </tr>\n",
       "    <tr>\n",
       "      <th>9999</th>\n",
       "      <td>2022-11-08 17:33:52+00:00</td>\n",
       "      <td>1590034884395171840</td>\n",
       "      <td>@MartinDaubney @GBNEWS Developed countries are...</td>\n",
       "      <td>Alvin80931383</td>\n",
       "    </tr>\n",
       "    <tr>\n",
       "      <th>10000</th>\n",
       "      <td>2022-11-08 17:33:44+00:00</td>\n",
       "      <td>1590034852568367104</td>\n",
       "      <td>@THEJamesWhale James. Are you referring to the...</td>\n",
       "      <td>EddieOw04518387</td>\n",
       "    </tr>\n",
       "  </tbody>\n",
       "</table>\n",
       "<p>10001 rows × 4 columns</p>\n",
       "</div>"
      ],
      "text/plain": [
       "                       Datetime             Tweet Id  \\\n",
       "0     2022-11-08 23:59:59+00:00  1590132054296956928   \n",
       "1     2022-11-08 23:59:52+00:00  1590132025444696065   \n",
       "2     2022-11-08 23:59:47+00:00  1590132002522816512   \n",
       "3     2022-11-08 23:59:45+00:00  1590131996692721665   \n",
       "4     2022-11-08 23:59:45+00:00  1590131996323328001   \n",
       "...                         ...                  ...   \n",
       "9996  2022-11-08 17:34:01+00:00  1590034922798219264   \n",
       "9997  2022-11-08 17:33:58+00:00  1590034909846188032   \n",
       "9998  2022-11-08 17:33:53+00:00  1590034890128379906   \n",
       "9999  2022-11-08 17:33:52+00:00  1590034884395171840   \n",
       "10000 2022-11-08 17:33:44+00:00  1590034852568367104   \n",
       "\n",
       "                                                    Text         Username  \n",
       "0      @PattiHarris @BloombergDotOrg @USCclimate What...      Sparky28292  \n",
       "1      ⚡️⚡️Sustainable Water and Energy Solutions sup...          SustDev  \n",
       "2      @rainnwilson @elonmusk Coal and gas power equi...  FreeMan71542585  \n",
       "3      @TheoFleury14 Someone needs to let these peopl...       play101975  \n",
       "4      #California, #Arizona, and #Nevada Democrats: ...      winewatcher  \n",
       "...                                                  ...              ...  \n",
       "9996   @zanupf_patriots What is he doing to tackle cl...         welly275  \n",
       "9997   @DonaldJTrumpJr That’s the reason I voted demo...      steinysbbq1  \n",
       "9998   WEF Climate Change agenda is a scam Eco terror...  babilon92666967  \n",
       "9999   @MartinDaubney @GBNEWS Developed countries are...    Alvin80931383  \n",
       "10000  @THEJamesWhale James. Are you referring to the...  EddieOw04518387  \n",
       "\n",
       "[10001 rows x 4 columns]"
      ]
     },
     "execution_count": 25,
     "metadata": {},
     "output_type": "execute_result"
    }
   ],
   "source": [
    "tweets_df"
   ]
  },
  {
   "cell_type": "code",
   "execution_count": 26,
   "id": "6f655ec3",
   "metadata": {},
   "outputs": [
    {
     "data": {
      "text/plain": [
       "'@PattiHarris @BloombergDotOrg @USCclimate What a waste of free air. Stop with the bullshit climate change. There is NO such thing!  It’s a money laundering ploy, plain and simple.'"
      ]
     },
     "execution_count": 26,
     "metadata": {},
     "output_type": "execute_result"
    }
   ],
   "source": [
    "tweets_df.iloc[0]['Text']"
   ]
  },
  {
   "cell_type": "code",
   "execution_count": 27,
   "id": "c6308709",
   "metadata": {},
   "outputs": [],
   "source": [
    "tweets_df.to_csv(r'C:\\Users\\maxma\\Downloads\\CS\\NLP\\Climate_Change_Tweets_10000.csv')"
   ]
  },
  {
   "cell_type": "code",
   "execution_count": null,
   "id": "6363b75d",
   "metadata": {},
   "outputs": [],
   "source": []
  }
 ],
 "metadata": {
  "kernelspec": {
   "display_name": "Python 3 (ipykernel)",
   "language": "python",
   "name": "python3"
  },
  "language_info": {
   "codemirror_mode": {
    "name": "ipython",
    "version": 3
   },
   "file_extension": ".py",
   "mimetype": "text/x-python",
   "name": "python",
   "nbconvert_exporter": "python",
   "pygments_lexer": "ipython3",
   "version": "3.8.8"
  }
 },
 "nbformat": 4,
 "nbformat_minor": 5
}
