{
 "cells": [
  {
   "cell_type": "code",
   "execution_count": null,
   "id": "57740fbe",
   "metadata": {},
   "outputs": [
    {
     "name": "stderr",
     "output_type": "stream",
     "text": [
      "C:\\Users\\maxma\\AppData\\Local\\Temp\\ipykernel_24704\\2260939148.py:13: FutureWarning: content is deprecated, use rawContent instead\n",
      "  tweets_list.append([tweet.date, tweet.id, tweet.content, tweet.user.username])\n"
     ]
    }
   ],
   "source": [
    "import snscrape.modules.twitter as sntwitter\n",
    "import pandas as pd\n",
    "\n",
    "# declare variables and query\n",
    "tweets_list = []\n",
    "tweet_count = 1000000\n",
    "query = \"Climate Change since:2021-01-01 until:2022-11-09\" \n",
    "\n",
    "# use TwitterSearchScraper to scrape data and append tweets to list\n",
    "for i,tweet in enumerate(sntwitter.TwitterSearchScraper(query).get_items()):\n",
    "    if i>tweet_count:\n",
    "        break\n",
    "    tweets_list.append([tweet.date, tweet.id, tweet.content, tweet.user.username])\n",
    "    \n",
    "# Creating a dataframe from the tweets list above\n",
    "tweets_df = pd.DataFrame(tweets_list, columns=['Datetime', 'Tweet Id', 'Text', 'Username'])"
   ]
  },
  {
   "cell_type": "code",
   "execution_count": null,
   "id": "f782ab1c",
   "metadata": {},
   "outputs": [],
   "source": [
    "tweets_df"
   ]
  },
  {
   "cell_type": "code",
   "execution_count": null,
   "id": "c99a5346",
   "metadata": {},
   "outputs": [],
   "source": [
    "tweets_df.iloc[0]['Text']"
   ]
  },
  {
   "cell_type": "code",
   "execution_count": null,
   "id": "4f9fbd08",
   "metadata": {},
   "outputs": [],
   "source": [
    "tweets_df.to_csv(r'C:\\Users\\maxma\\Downloads\\CS\\NLP\\Climate_Change_Tweets_1000000.csv')"
   ]
  },
  {
   "cell_type": "code",
   "execution_count": null,
   "id": "e7250c7a",
   "metadata": {},
   "outputs": [],
   "source": [
    "df = pd.read_csv('Climate_Change_Tweets_100000.csv')"
   ]
  },
  {
   "cell_type": "code",
   "execution_count": null,
   "id": "24f3dcad",
   "metadata": {},
   "outputs": [],
   "source": []
  },
  {
   "cell_type": "code",
   "execution_count": null,
   "id": "d78ee761",
   "metadata": {},
   "outputs": [],
   "source": []
  },
  {
   "cell_type": "code",
   "execution_count": null,
   "id": "106403be",
   "metadata": {},
   "outputs": [],
   "source": []
  }
 ],
 "metadata": {
  "kernelspec": {
   "display_name": "Python 3 (ipykernel)",
   "language": "python",
   "name": "python3"
  },
  "language_info": {
   "codemirror_mode": {
    "name": "ipython",
    "version": 3
   },
   "file_extension": ".py",
   "mimetype": "text/x-python",
   "name": "python",
   "nbconvert_exporter": "python",
   "pygments_lexer": "ipython3",
   "version": "3.8.8"
  }
 },
 "nbformat": 4,
 "nbformat_minor": 5
}
