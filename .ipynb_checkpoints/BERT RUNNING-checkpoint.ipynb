{
 "cells": [
  {
   "cell_type": "code",
   "execution_count": 7,
   "id": "4d9e68fa",
   "metadata": {},
   "outputs": [
    {
     "data": {
      "text/html": [
       "<div>\n",
       "<style scoped>\n",
       "    .dataframe tbody tr th:only-of-type {\n",
       "        vertical-align: middle;\n",
       "    }\n",
       "\n",
       "    .dataframe tbody tr th {\n",
       "        vertical-align: top;\n",
       "    }\n",
       "\n",
       "    .dataframe thead th {\n",
       "        text-align: right;\n",
       "    }\n",
       "</style>\n",
       "<table border=\"1\" class=\"dataframe\">\n",
       "  <thead>\n",
       "    <tr style=\"text-align: right;\">\n",
       "      <th></th>\n",
       "      <th>Unnamed: 0</th>\n",
       "      <th>Datetime</th>\n",
       "      <th>Tweet Id</th>\n",
       "      <th>Text</th>\n",
       "      <th>Username</th>\n",
       "    </tr>\n",
       "  </thead>\n",
       "  <tbody>\n",
       "    <tr>\n",
       "      <th>0</th>\n",
       "      <td>0</td>\n",
       "      <td>2022-11-08 23:59:59+00:00</td>\n",
       "      <td>1590132054296956928</td>\n",
       "      <td>What a waste of free air. Stop with the bul...</td>\n",
       "      <td>Sparky28292</td>\n",
       "    </tr>\n",
       "    <tr>\n",
       "      <th>1</th>\n",
       "      <td>1</td>\n",
       "      <td>2022-11-08 23:59:52+00:00</td>\n",
       "      <td>1590132025444696065</td>\n",
       "      <td>Sustainable Water and Energy Solutions support...</td>\n",
       "      <td>SustDev</td>\n",
       "    </tr>\n",
       "    <tr>\n",
       "      <th>2</th>\n",
       "      <td>2</td>\n",
       "      <td>2022-11-08 23:59:47+00:00</td>\n",
       "      <td>1590132002522816512</td>\n",
       "      <td>Coal and gas power equipment and factories n...</td>\n",
       "      <td>FreeMan71542585</td>\n",
       "    </tr>\n",
       "    <tr>\n",
       "      <th>3</th>\n",
       "      <td>3</td>\n",
       "      <td>2022-11-08 23:59:45+00:00</td>\n",
       "      <td>1590131996692721665</td>\n",
       "      <td>14 Someone needs to let these people know the ...</td>\n",
       "      <td>play101975</td>\n",
       "    </tr>\n",
       "    <tr>\n",
       "      <th>4</th>\n",
       "      <td>4</td>\n",
       "      <td>2022-11-08 23:59:45+00:00</td>\n",
       "      <td>1590131996323328001</td>\n",
       "      <td>California, Arizona, and Nevada Democrats: You...</td>\n",
       "      <td>winewatcher</td>\n",
       "    </tr>\n",
       "    <tr>\n",
       "      <th>...</th>\n",
       "      <td>...</td>\n",
       "      <td>...</td>\n",
       "      <td>...</td>\n",
       "      <td>...</td>\n",
       "      <td>...</td>\n",
       "    </tr>\n",
       "    <tr>\n",
       "      <th>99996</th>\n",
       "      <td>99996</td>\n",
       "      <td>2022-11-05 20:31:42+00:00</td>\n",
       "      <td>1588992473270919168</td>\n",
       "      <td>You walked?  Because you know GhG aND ClIM...</td>\n",
       "      <td>GHabs9</td>\n",
       "    </tr>\n",
       "    <tr>\n",
       "      <th>99997</th>\n",
       "      <td>99997</td>\n",
       "      <td>2022-11-05 20:31:40+00:00</td>\n",
       "      <td>1588992465314250752</td>\n",
       "      <td>Protection Act in September, but of course the...</td>\n",
       "      <td>Loves_Equines</td>\n",
       "    </tr>\n",
       "    <tr>\n",
       "      <th>99998</th>\n",
       "      <td>99998</td>\n",
       "      <td>2022-11-05 20:31:26+00:00</td>\n",
       "      <td>1588992407479418880</td>\n",
       "      <td>Elon Musk u buying Twitter is actually a misp...</td>\n",
       "      <td>KilluaBoy4KT</td>\n",
       "    </tr>\n",
       "    <tr>\n",
       "      <th>99999</th>\n",
       "      <td>99999</td>\n",
       "      <td>2022-11-05 20:31:19+00:00</td>\n",
       "      <td>1588992375644639233</td>\n",
       "      <td>Wetenschappelijke verantwoording:\\n\\n/\\n\\nPe...</td>\n",
       "      <td>Z06Ronald</td>\n",
       "    </tr>\n",
       "    <tr>\n",
       "      <th>100000</th>\n",
       "      <td>100000</td>\n",
       "      <td>2022-11-05 20:31:18+00:00</td>\n",
       "      <td>1588992371290955776</td>\n",
       "      <td>. cities like Denver, CO, continue to be leadi...</td>\n",
       "      <td>nwcement</td>\n",
       "    </tr>\n",
       "  </tbody>\n",
       "</table>\n",
       "<p>100001 rows × 5 columns</p>\n",
       "</div>"
      ],
      "text/plain": [
       "        Unnamed: 0                   Datetime             Tweet Id  \\\n",
       "0                0  2022-11-08 23:59:59+00:00  1590132054296956928   \n",
       "1                1  2022-11-08 23:59:52+00:00  1590132025444696065   \n",
       "2                2  2022-11-08 23:59:47+00:00  1590132002522816512   \n",
       "3                3  2022-11-08 23:59:45+00:00  1590131996692721665   \n",
       "4                4  2022-11-08 23:59:45+00:00  1590131996323328001   \n",
       "...            ...                        ...                  ...   \n",
       "99996        99996  2022-11-05 20:31:42+00:00  1588992473270919168   \n",
       "99997        99997  2022-11-05 20:31:40+00:00  1588992465314250752   \n",
       "99998        99998  2022-11-05 20:31:26+00:00  1588992407479418880   \n",
       "99999        99999  2022-11-05 20:31:19+00:00  1588992375644639233   \n",
       "100000      100000  2022-11-05 20:31:18+00:00  1588992371290955776   \n",
       "\n",
       "                                                     Text         Username  \n",
       "0          What a waste of free air. Stop with the bul...      Sparky28292  \n",
       "1       Sustainable Water and Energy Solutions support...          SustDev  \n",
       "2         Coal and gas power equipment and factories n...  FreeMan71542585  \n",
       "3       14 Someone needs to let these people know the ...       play101975  \n",
       "4       California, Arizona, and Nevada Democrats: You...      winewatcher  \n",
       "...                                                   ...              ...  \n",
       "99996       You walked?  Because you know GhG aND ClIM...           GHabs9  \n",
       "99997   Protection Act in September, but of course the...    Loves_Equines  \n",
       "99998    Elon Musk u buying Twitter is actually a misp...     KilluaBoy4KT  \n",
       "99999     Wetenschappelijke verantwoording:\\n\\n/\\n\\nPe...        Z06Ronald  \n",
       "100000  . cities like Denver, CO, continue to be leadi...         nwcement  \n",
       "\n",
       "[100001 rows x 5 columns]"
      ]
     },
     "execution_count": 7,
     "metadata": {},
     "output_type": "execute_result"
    }
   ],
   "source": [
    "import pandas as pd\n",
    "\n",
    "df = pd.read_csv('Data/100kTweetsCleaned.csv')\n",
    "length = len(df)\n",
    "df"
   ]
  },
  {
   "cell_type": "code",
   "execution_count": 8,
   "id": "977d0b86",
   "metadata": {},
   "outputs": [
    {
     "name": "stdout",
     "output_type": "stream",
     "text": [
      "Requirement already satisfied: transformers in c:\\users\\maxma\\anaconda3\\lib\\site-packages (4.21.2)\n",
      "Requirement already satisfied: requests in c:\\users\\maxma\\anaconda3\\lib\\site-packages (2.27.1)\n",
      "Requirement already satisfied: beautifulsoup4 in c:\\users\\maxma\\anaconda3\\lib\\site-packages (4.9.3)\n",
      "Requirement already satisfied: pandas in c:\\users\\maxma\\anaconda3\\lib\\site-packages (1.2.4)\n",
      "Requirement already satisfied: numpy in c:\\users\\maxma\\anaconda3\\lib\\site-packages (1.20.1)\n",
      "Requirement already satisfied: soupsieve>1.2 in c:\\users\\maxma\\anaconda3\\lib\\site-packages (from beautifulsoup4) (2.2.1)\n",
      "Requirement already satisfied: pytz>=2017.3 in c:\\users\\maxma\\anaconda3\\lib\\site-packages (from pandas) (2021.1)\n",
      "Requirement already satisfied: python-dateutil>=2.7.3 in c:\\users\\maxma\\anaconda3\\lib\\site-packages (from pandas) (2.8.1)\n",
      "Requirement already satisfied: six>=1.5 in c:\\users\\maxma\\anaconda3\\lib\\site-packages (from python-dateutil>=2.7.3->pandas) (1.15.0)\n",
      "Requirement already satisfied: charset-normalizer~=2.0.0 in c:\\users\\maxma\\anaconda3\\lib\\site-packages (from requests) (2.0.12)\n",
      "Requirement already satisfied: idna<4,>=2.5 in c:\\users\\maxma\\anaconda3\\lib\\site-packages (from requests) (2.10)\n",
      "Requirement already satisfied: urllib3<1.27,>=1.21.1 in c:\\users\\maxma\\anaconda3\\lib\\site-packages (from requests) (1.26.4)\n",
      "Requirement already satisfied: certifi>=2017.4.17 in c:\\users\\maxma\\anaconda3\\lib\\site-packages (from requests) (2020.12.5)\n",
      "Requirement already satisfied: tokenizers!=0.11.3,<0.13,>=0.11.1 in c:\\users\\maxma\\anaconda3\\lib\\site-packages (from transformers) (0.12.1)\n",
      "Requirement already satisfied: huggingface-hub<1.0,>=0.1.0 in c:\\users\\maxma\\anaconda3\\lib\\site-packages (from transformers) (0.9.0)\n",
      "Requirement already satisfied: regex!=2019.12.17 in c:\\users\\maxma\\anaconda3\\lib\\site-packages (from transformers) (2021.4.4)\n",
      "Requirement already satisfied: packaging>=20.0 in c:\\users\\maxma\\anaconda3\\lib\\site-packages (from transformers) (20.9)\n",
      "Requirement already satisfied: tqdm>=4.27 in c:\\users\\maxma\\anaconda3\\lib\\site-packages (from transformers) (4.59.0)\n",
      "Requirement already satisfied: filelock in c:\\users\\maxma\\anaconda3\\lib\\site-packages (from transformers) (3.0.12)\n",
      "Requirement already satisfied: pyyaml>=5.1 in c:\\users\\maxma\\anaconda3\\lib\\site-packages (from transformers) (5.4.1)\n",
      "Requirement already satisfied: typing-extensions>=3.7.4.3 in c:\\users\\maxma\\anaconda3\\lib\\site-packages (from huggingface-hub<1.0,>=0.1.0->transformers) (3.7.4.3)\n",
      "Requirement already satisfied: pyparsing>=2.0.2 in c:\\users\\maxma\\anaconda3\\lib\\site-packages (from packaging>=20.0->transformers) (2.4.7)\n"
     ]
    }
   ],
   "source": [
    "!pip install transformers requests beautifulsoup4 pandas numpy\n",
    "from transformers import AutoTokenizer, AutoModelForSequenceClassification\n",
    "import torch\n",
    "import requests\n",
    "import re"
   ]
  },
  {
   "cell_type": "code",
   "execution_count": 9,
   "id": "cf6546b8",
   "metadata": {},
   "outputs": [],
   "source": [
    "tokenizer = AutoTokenizer.from_pretrained('nlptown/bert-base-multilingual-uncased-sentiment')\n",
    "\n",
    "model = AutoModelForSequenceClassification.from_pretrained('nlptown/bert-base-multilingual-uncased-sentiment')\n"
   ]
  },
  {
   "cell_type": "code",
   "execution_count": 10,
   "id": "d3a7722e",
   "metadata": {},
   "outputs": [
    {
     "data": {
      "text/plain": [
       "5"
      ]
     },
     "execution_count": 10,
     "metadata": {},
     "output_type": "execute_result"
    }
   ],
   "source": [
    "tokens = tokenizer.encode('I Love', return_tensors='pt')\n",
    "result = model(tokens)\n",
    "result.logits\n",
    "int(torch.argmax(result.logits))+1\n"
   ]
  },
  {
   "cell_type": "code",
   "execution_count": 19,
   "id": "ae4a6bc1",
   "metadata": {},
   "outputs": [],
   "source": [
    "def sentiment_score(tweet):\n",
    "    tweet = str(tweet)\n",
    "    tokens = tokenizer.encode(tweet, return_tensors='pt')\n",
    "    result = model(tokens)\n",
    "    return int(torch.argmax(result.logits))+1"
   ]
  },
  {
   "cell_type": "code",
   "execution_count": 20,
   "id": "63564a4f",
   "metadata": {},
   "outputs": [
    {
     "data": {
      "text/plain": [
       "'   What a waste of free air. Stop with the bullshit climate change. There is NO such thing!  It’s a money laundering ploy, plain and simple.'"
      ]
     },
     "execution_count": 20,
     "metadata": {},
     "output_type": "execute_result"
    }
   ],
   "source": [
    "test = df.iloc[0]['Text']\n",
    "test"
   ]
  },
  {
   "cell_type": "code",
   "execution_count": 21,
   "id": "dadcece0",
   "metadata": {},
   "outputs": [
    {
     "data": {
      "text/plain": [
       "1"
      ]
     },
     "execution_count": 21,
     "metadata": {},
     "output_type": "execute_result"
    }
   ],
   "source": [
    "sentiment_score(test)"
   ]
  },
  {
   "cell_type": "code",
   "execution_count": null,
   "id": "e3ddc929",
   "metadata": {},
   "outputs": [],
   "source": [
    "df['sentiment'] = df['Text'].apply(sentiment_score)"
   ]
  },
  {
   "cell_type": "code",
   "execution_count": null,
   "id": "9c6ab023",
   "metadata": {},
   "outputs": [],
   "source": []
  }
 ],
 "metadata": {
  "kernelspec": {
   "display_name": "Python 3 (ipykernel)",
   "language": "python",
   "name": "python3"
  },
  "language_info": {
   "codemirror_mode": {
    "name": "ipython",
    "version": 3
   },
   "file_extension": ".py",
   "mimetype": "text/x-python",
   "name": "python",
   "nbconvert_exporter": "python",
   "pygments_lexer": "ipython3",
   "version": "3.8.8"
  }
 },
 "nbformat": 4,
 "nbformat_minor": 5
}
